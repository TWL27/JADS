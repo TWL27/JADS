{
 "cells": [
  {
   "cell_type": "code",
   "execution_count": 1,
   "metadata": {},
   "outputs": [],
   "source": [
    "import pandas as pd\n",
    "import numpy as np\n",
    "import seaborn as sns\n",
    "import matplotlib.pyplot as plt\n",
    "%matplotlib inline"
   ]
  },
  {
   "cell_type": "code",
   "execution_count": 137,
   "metadata": {},
   "outputs": [],
   "source": [
    "plt.rcParams[\"figure.figsize\"] = (10,6)"
   ]
  },
  {
   "cell_type": "code",
   "execution_count": 3,
   "metadata": {},
   "outputs": [],
   "source": [
    "df = pd.read_csv('https://github.com/jads-nl/discover-projects/blob/main/ames-housing/AmesHousing.csv?raw=true')"
   ]
  },
  {
   "cell_type": "code",
   "execution_count": 4,
   "metadata": {},
   "outputs": [],
   "source": [
    "D = df[df['Gr Liv Area']<4000] #5 outliers eruit, waarvan 2 hele grote/dure huizen\n",
    "#Ground living area lijkt een belangrijke feature op basis van de scatterplots"
   ]
  },
  {
   "cell_type": "code",
   "execution_count": 48,
   "metadata": {},
   "outputs": [
    {
     "data": {
      "text/plain": [
       "object     43\n",
       "int64      28\n",
       "float64    11\n",
       "dtype: int64"
      ]
     },
     "execution_count": 48,
     "metadata": {},
     "output_type": "execute_result"
    }
   ],
   "source": [
    "D.dtypes.value_counts()"
   ]
  },
  {
   "cell_type": "code",
   "execution_count": 59,
   "metadata": {},
   "outputs": [
    {
     "name": "stdout",
     "output_type": "stream",
     "text": [
      "There are 43 categorical variables, \n",
      " of which 2 are binary variables and \n",
      " the other 41 variables have 3 to 28 categories in each variable.\n",
      "\n",
      "There are 39 numerical variables (including SalePrice) of which 28 integer and 11 float.\n"
     ]
    }
   ],
   "source": [
    "D_nums = D.select_dtypes(exclude=[object])\n",
    "D_objs = D.select_dtypes(include=[object])\n",
    "vars_categorical = [col for col in D_objs.columns.unique()]\n",
    "\n",
    "categorical_variables = []\n",
    "number_multi_categories = []\n",
    "binary_variables = []\n",
    "\n",
    "for var in vars_categorical:\n",
    "    number = len(D_objs[var].unique())\n",
    "#     print(var, number)\n",
    "    categorical_variables.append(var)\n",
    "    if number == 2:\n",
    "        binary_variables.append(number)\n",
    "    else: \n",
    "        number_multi_categories.append(number)\n",
    "\n",
    "print(f'There are {len(categorical_variables)} categorical variables, \\n of which {len(binary_variables)} are binary \\\n",
    "variables and \\n the other {len(number_multi_categories)} variables have {min(number_multi_categories)} \\\n",
    "to {max(number_multi_categories)} categories in each variable.\\n')\n",
    "\n",
    "print(f'There are {len(D_nums.columns.unique())} numerical variables (including SalePrice) of which 28 integer and 11 float.')"
   ]
  },
  {
   "cell_type": "markdown",
   "metadata": {},
   "source": [
    "**Looking at the numerical variables first**"
   ]
  },
  {
   "cell_type": "code",
   "execution_count": 57,
   "metadata": {
    "scrolled": true
   },
   "outputs": [
    {
     "data": {
      "text/plain": [
       "SalePrice         1.000000\n",
       "Overall Qual      0.805236\n",
       "Gr Liv Area       0.719463\n",
       "Total Bsmt SF     0.658649\n",
       "Garage Cars       0.652546\n",
       "Garage Area       0.648322\n",
       "1st Flr SF        0.642902\n",
       "Year Built        0.565110\n",
       "Full Bath         0.544486\n",
       "Year Remod/Add    0.540290\n",
       "Garage Yr Blt     0.533992\n",
       "Mas Vnr Area      0.513221\n",
       "TotRms AbvGrd     0.498477\n",
       "Fireplaces        0.474878\n",
       "BsmtFin SF 1      0.444482\n",
       "Lot Frontage      0.360431\n",
       "Wood Deck SF      0.326911\n",
       "Open Porch SF     0.322075\n",
       "Name: SalePrice, dtype: float64"
      ]
     },
     "execution_count": 57,
     "metadata": {},
     "output_type": "execute_result"
    }
   ],
   "source": [
    "correlation_matrix = D_nums.corr()\n",
    "#sorted list of most correlating variables above 30%\n",
    "correlation_matrix['SalePrice'][abs(correlation_matrix['SalePrice'])>.3].sort_values(ascending=False)"
   ]
  },
  {
   "cell_type": "markdown",
   "metadata": {},
   "source": [
    "Top 5 of numerical variables that appear to have an influence on sales price are, in order of correlation, 1) overall quality indicator 2) ground living area 3) total basement area square feet 4) size of garage car capacity 5) size of garage in square feet."
   ]
  },
  {
   "cell_type": "markdown",
   "metadata": {},
   "source": [
    "Looking at variables negatively correlated with SalePrice, there isn't one that really shows up as negatively correlated (e.g. being close to air polution or a noisy highway), although maybe the variable 'PID' is worth looking into at -25% correlated. Looking it up shows \"Parcel Identification Number\". I.e. higher numbers lower salesprice?"
   ]
  },
  {
   "cell_type": "code",
   "execution_count": 56,
   "metadata": {},
   "outputs": [
    {
     "data": {
      "text/plain": [
       "Order             -0.033754\n",
       "PID               -0.246186\n",
       "MS SubClass       -0.086906\n",
       "Overall Cond      -0.103296\n",
       "Low Qual Fin SF   -0.037836\n",
       "Bsmt Half Bath    -0.045745\n",
       "Kitchen AbvGr     -0.120938\n",
       "Enclosed Porch    -0.129339\n",
       "Misc Val          -0.019183\n",
       "Yr Sold           -0.028112\n",
       "Name: SalePrice, dtype: float64"
      ]
     },
     "execution_count": 56,
     "metadata": {},
     "output_type": "execute_result"
    }
   ],
   "source": [
    "correlation_matrix['SalePrice'][correlation_matrix['SalePrice']<0]"
   ]
  },
  {
   "cell_type": "code",
   "execution_count": null,
   "metadata": {},
   "outputs": [],
   "source": [
    "# sns.heatmap(correlation_matrix,cmap='Blues',annot=True)"
   ]
  },
  {
   "cell_type": "code",
   "execution_count": null,
   "metadata": {},
   "outputs": [],
   "source": [
    "# x = df['SalePrice']\n",
    "# y = df['Gr Liv Area']\n",
    "# plt.scatter(x, y, alpha=.2)\n",
    "# #recommended by case creator to exclude Gr Liv Area > 4000\n",
    "# D = df[df['Gr Liv Area']<4000]"
   ]
  },
  {
   "cell_type": "markdown",
   "metadata": {},
   "source": [
    "**Looking at the categorical variables**"
   ]
  },
  {
   "cell_type": "code",
   "execution_count": 90,
   "metadata": {},
   "outputs": [],
   "source": [
    "# vars_categorical"
   ]
  },
  {
   "cell_type": "code",
   "execution_count": 81,
   "metadata": {},
   "outputs": [
    {
     "data": {
      "image/png": "[encoded data removed]",
      "text/plain": [
       "<Figure size 576x360 with 1 Axes>"
      ]
     },
     "metadata": {
      "needs_background": "light"
     },
     "output_type": "display_data"
    }
   ],
   "source": [
    "ax = sns.boxplot(x=D['Sale Condition'], y=D['SalePrice'], data=D)"
   ]
  },
  {
   "cell_type": "code",
   "execution_count": 119,
   "metadata": {},
   "outputs": [
    {
     "data": {
      "text/html": [
       "<div>\n",
       "<style scoped>\n",
       "    .dataframe tbody tr th:only-of-type {\n",
       "        vertical-align: middle;\n",
       "    }\n",
       "\n",
       "    .dataframe tbody tr th {\n",
       "        vertical-align: top;\n",
       "    }\n",
       "\n",
       "    .dataframe thead th {\n",
       "        text-align: right;\n",
       "    }\n",
       "</style>\n",
       "<table border=\"1\" class=\"dataframe\">\n",
       "  <thead>\n",
       "    <tr style=\"text-align: right;\">\n",
       "      <th></th>\n",
       "      <th>variable</th>\n",
       "      <th>delta</th>\n",
       "    </tr>\n",
       "  </thead>\n",
       "  <tbody>\n",
       "    <tr>\n",
       "      <th>10</th>\n",
       "      <td>Condition 2</td>\n",
       "      <td>348750.0</td>\n",
       "    </tr>\n",
       "    <tr>\n",
       "      <th>18</th>\n",
       "      <td>Exter Qual</td>\n",
       "      <td>290209.0</td>\n",
       "    </tr>\n",
       "    <tr>\n",
       "      <th>21</th>\n",
       "      <td>Bsmt Qual</td>\n",
       "      <td>246989.0</td>\n",
       "    </tr>\n",
       "    <tr>\n",
       "      <th>30</th>\n",
       "      <td>Kitchen Qual</td>\n",
       "      <td>229723.0</td>\n",
       "    </tr>\n",
       "    <tr>\n",
       "      <th>8</th>\n",
       "      <td>Neighborhood</td>\n",
       "      <td>228473.0</td>\n",
       "    </tr>\n",
       "    <tr>\n",
       "      <th>38</th>\n",
       "      <td>Pool QC</td>\n",
       "      <td>217833.0</td>\n",
       "    </tr>\n",
       "    <tr>\n",
       "      <th>16</th>\n",
       "      <td>Exterior 2nd</td>\n",
       "      <td>213775.0</td>\n",
       "    </tr>\n",
       "    <tr>\n",
       "      <th>32</th>\n",
       "      <td>Fireplace Qu</td>\n",
       "      <td>192697.0</td>\n",
       "    </tr>\n",
       "    <tr>\n",
       "      <th>17</th>\n",
       "      <td>Mas Vnr Type</td>\n",
       "      <td>181576.0</td>\n",
       "    </tr>\n",
       "    <tr>\n",
       "      <th>14</th>\n",
       "      <td>Roof Matl</td>\n",
       "      <td>173917.0</td>\n",
       "    </tr>\n",
       "  </tbody>\n",
       "</table>\n",
       "</div>"
      ],
      "text/plain": [
       "        variable     delta\n",
       "10   Condition 2  348750.0\n",
       "18    Exter Qual  290209.0\n",
       "21     Bsmt Qual  246989.0\n",
       "30  Kitchen Qual  229723.0\n",
       "8   Neighborhood  228473.0\n",
       "38       Pool QC  217833.0\n",
       "16  Exterior 2nd  213775.0\n",
       "32  Fireplace Qu  192697.0\n",
       "17  Mas Vnr Type  181576.0\n",
       "14     Roof Matl  173917.0"
      ]
     },
     "execution_count": 119,
     "metadata": {},
     "output_type": "execute_result"
    }
   ],
   "source": [
    "#Let's make a list of the top variables where the min and max sales price mean between categories is largest\n",
    "delta = []\n",
    "for var in vars_categorical:\n",
    "    delta.append(round(D['SalePrice'].groupby(D[var]).mean().max()-D['SalePrice'].groupby(D[var]).mean().min()))\n",
    "    C = pd.DataFrame()\n",
    "C['variable'] = vars_categorical\n",
    "C['delta'] = delta\n",
    "C.sort_values(by='delta', ascending=False).head(10)"
   ]
  },
  {
   "cell_type": "markdown",
   "metadata": {},
   "source": [
    "So this shows that Condition 2, several Quality variables and Neighborhood make up for a difference in salesprice.\n",
    "From the descriptive pdf: Condition 2: Proximity to various conditions (if more than one is present)"
   ]
  },
  {
   "cell_type": "code",
   "execution_count": 138,
   "metadata": {},
   "outputs": [
    {
     "data": {
      "image/png": "[encoded data removed]",
      "text/plain": [
       "<Figure size 720x432 with 1 Axes>"
      ]
     },
     "metadata": {
      "needs_background": "light"
     },
     "output_type": "display_data"
    }
   ],
   "source": [
    "# Condition 2 looks like a funky variable. 'PosA' and 'PosN' look as if they have a strong influence on house prices. \n",
    "# I wonder could this be data about proximity to schools and shopping centers?\n",
    "\n",
    "ax = sns.boxplot(y=D['Condition 2'], x=D['SalePrice'], data=D)"
   ]
  },
  {
   "cell_type": "code",
   "execution_count": 139,
   "metadata": {},
   "outputs": [],
   "source": [
    "# D[D['Sale Condition'] == 'Abnorml']"
   ]
  },
  {
   "cell_type": "code",
   "execution_count": null,
   "metadata": {},
   "outputs": [],
   "source": []
  }
 ],
 "metadata": {
  "kernelspec": {
   "display_name": "Python 3",
   "language": "python",
   "name": "python3"
  },
  "language_info": {
   "codemirror_mode": {
    "name": "ipython",
    "version": 3
   },
   "file_extension": ".py",
   "mimetype": "text/x-python",
   "name": "python",
   "nbconvert_exporter": "python",
   "pygments_lexer": "ipython3",
   "version": "3.7.3"
  }
 },
 "nbformat": 4,
 "nbformat_minor": 2
}

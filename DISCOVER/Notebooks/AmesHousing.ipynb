{
 "cells": [
  {
   "cell_type": "code",
   "execution_count": 1,
   "metadata": {},
   "outputs": [],
   "source": [
    "import pandas as pd\n",
    "import numpy as np\n",
    "import seaborn as sbs\n",
    "import matplotlib.pyplot as plt\n",
    "%matplotlib inline"
   ]
  },
  {
   "cell_type": "code",
   "execution_count": 2,
   "metadata": {},
   "outputs": [],
   "source": [
    "# plt.rcParams[\"figure.figsize\"] = (16,16)"
   ]
  },
  {
   "cell_type": "code",
   "execution_count": 3,
   "metadata": {},
   "outputs": [],
   "source": [
    "df = pd.read_csv('https://github.com/jads-nl/discover-projects/blob/main/ames-housing/AmesHousing.csv?raw=true')"
   ]
  },
  {
   "cell_type": "code",
   "execution_count": 4,
   "metadata": {},
   "outputs": [],
   "source": [
    "D = df[df['Gr Liv Area']<4000] #5 outliers eruit, waarvan 2 hele grote/dure huizen\n",
    "#Ground living area lijkt een belangrijke feature op basis van de scatterplots"
   ]
  },
  {
   "cell_type": "code",
   "execution_count": 6,
   "metadata": {},
   "outputs": [],
   "source": [
    "D_nums = D.select_dtypes(exclude=[object])"
   ]
  },
  {
   "cell_type": "code",
   "execution_count": 7,
   "metadata": {},
   "outputs": [],
   "source": [
    "correlation_matrix = D_nums.corr()"
   ]
  },
  {
   "cell_type": "code",
   "execution_count": 23,
   "metadata": {
    "scrolled": true
   },
   "outputs": [
    {
     "data": {
      "text/plain": [
       "SalePrice         1.000000\n",
       "Overall Qual      0.805236\n",
       "Gr Liv Area       0.719463\n",
       "Total Bsmt SF     0.658649\n",
       "Garage Cars       0.652546\n",
       "Garage Area       0.648322\n",
       "1st Flr SF        0.642902\n",
       "Year Built        0.565110\n",
       "Full Bath         0.544486\n",
       "Year Remod/Add    0.540290\n",
       "Garage Yr Blt     0.533992\n",
       "Mas Vnr Area      0.513221\n",
       "TotRms AbvGrd     0.498477\n",
       "Fireplaces        0.474878\n",
       "BsmtFin SF 1      0.444482\n",
       "Lot Frontage      0.360431\n",
       "Wood Deck SF      0.326911\n",
       "Open Porch SF     0.322075\n",
       "Name: SalePrice, dtype: float64"
      ]
     },
     "execution_count": 23,
     "metadata": {},
     "output_type": "execute_result"
    }
   ],
   "source": [
    "correlation_matrix['SalePrice'][abs(correlation_matrix['SalePrice'])>.3].sort_values(ascending=False)"
   ]
  },
  {
   "cell_type": "code",
   "execution_count": 17,
   "metadata": {},
   "outputs": [],
   "source": [
    "# sbs.heatmap(correlation_matrix,cmap='Blues',annot=True)"
   ]
  },
  {
   "cell_type": "code",
   "execution_count": 18,
   "metadata": {},
   "outputs": [],
   "source": [
    "# x = df['SalePrice']\n",
    "# y = df['Gr Liv Area']\n",
    "# plt.scatter(x, y, alpha=.2)\n",
    "# #recommended by case creator to exclude Gr Liv Area > 4000\n",
    "# D = df[df['Gr Liv Area']<4000]"
   ]
  }
 ],
 "metadata": {
  "kernelspec": {
   "display_name": "Python 3",
   "language": "python",
   "name": "python3"
  },
  "language_info": {
   "codemirror_mode": {
    "name": "ipython",
    "version": 3
   },
   "file_extension": ".py",
   "mimetype": "text/x-python",
   "name": "python",
   "nbconvert_exporter": "python",
   "pygments_lexer": "ipython3",
   "version": "3.6.2"
  }
 },
 "nbformat": 4,
 "nbformat_minor": 2
}

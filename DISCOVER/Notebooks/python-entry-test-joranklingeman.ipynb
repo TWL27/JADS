{
 "cells": [
  {
   "cell_type": "code",
   "execution_count": null,
   "metadata": {},
   "outputs": [],
   "source": [
    "#14:09u"
   ]
  },
  {
   "cell_type": "code",
   "execution_count": null,
   "metadata": {},
   "outputs": [],
   "source": [
    "#Q1: area of a circle\n",
    "\n",
    "import math\n",
    "math.pi * (7/2)**2"
   ]
  },
  {
   "cell_type": "code",
   "execution_count": null,
   "metadata": {},
   "outputs": [],
   "source": [
    "#Q2a\n",
    "\n",
    "6789*'!'"
   ]
  },
  {
   "cell_type": "code",
   "execution_count": null,
   "metadata": {},
   "outputs": [],
   "source": [
    "Q2b\n",
    "\n",
    "assert len(6789*'!') == 6789 "
   ]
  },
  {
   "cell_type": "code",
   "execution_count": null,
   "metadata": {},
   "outputs": [],
   "source": [
    "#Q3\n",
    "\n",
    "count = 13\n",
    "count%2 != 0"
   ]
  },
  {
   "cell_type": "code",
   "execution_count": null,
   "metadata": {},
   "outputs": [],
   "source": [
    "#Q4\n",
    "\n",
    "index = len(sample_text)//2\n",
    "sample_text[index]"
   ]
  },
  {
   "cell_type": "code",
   "execution_count": null,
   "metadata": {},
   "outputs": [],
   "source": [
    "#Q5\n",
    "\n",
    "asedm\n",
    "5\n",
    "4"
   ]
  },
  {
   "cell_type": "code",
   "execution_count": null,
   "metadata": {},
   "outputs": [],
   "source": [
    "#Q6\n",
    "\n",
    "# A is a tuple whilst B is a list. Tuples are immutable whereas lists are not.\n",
    "# A gives an error, B will change the list into [1, 7, 23, 19]\n",
    "# the advantage of a tuple i guess is that you cannot create false data in your code if the original data is immutable??"
   ]
  },
  {
   "cell_type": "code",
   "execution_count": null,
   "metadata": {},
   "outputs": [],
   "source": [
    "#Q7\n",
    "\n",
    "def amount_with_VAT(amount):\n",
    "    return amount *1.21"
   ]
  },
  {
   "cell_type": "code",
   "execution_count": null,
   "metadata": {},
   "outputs": [],
   "source": [
    "#Q8\n",
    "\n",
    "def box(size):\n",
    "    print('  +'+size*'-'+'+'+'\\n',\n",
    "         size*(' |'+size*' '+'|'+'\\n '),\n",
    "        '+'+size*'-'+'+' )"
   ]
  },
  {
   "cell_type": "code",
   "execution_count": null,
   "metadata": {},
   "outputs": [],
   "source": [
    "box(7)"
   ]
  },
  {
   "cell_type": "code",
   "execution_count": null,
   "metadata": {},
   "outputs": [],
   "source": [
    "#Q9\n",
    "\n",
    "def chessboard(size):\n",
    "    row1 = [-1,1]*(size//2)\n",
    "    row2 = [-1*i for i in row1]\n",
    "    return (size//2)*(row1,row2)"
   ]
  },
  {
   "cell_type": "code",
   "execution_count": null,
   "metadata": {},
   "outputs": [],
   "source": [
    "chessboard(5)"
   ]
  },
  {
   "cell_type": "code",
   "execution_count": null,
   "metadata": {},
   "outputs": [],
   "source": [
    "# i can only get it to work on even numbers"
   ]
  },
  {
   "cell_type": "code",
   "execution_count": null,
   "metadata": {},
   "outputs": [],
   "source": [
    "#Q10\n",
    "\n",
    "def small_checker(lijst):\n",
    "    for item in lijst:\n",
    "        if item < 70:\n",
    "           return True"
   ]
  },
  {
   "cell_type": "code",
   "execution_count": null,
   "metadata": {},
   "outputs": [],
   "source": [
    "small_checker([89, 34, 109, 205])"
   ]
  },
  {
   "cell_type": "code",
   "execution_count": null,
   "metadata": {},
   "outputs": [],
   "source": [
    "small_checker([7100, 101, 71, 2345])"
   ]
  },
  {
   "cell_type": "code",
   "execution_count": null,
   "metadata": {},
   "outputs": [],
   "source": [
    "small_checker([])"
   ]
  },
  {
   "cell_type": "code",
   "execution_count": null,
   "metadata": {},
   "outputs": [],
   "source": [
    "def double_small_checker(lijst):\n",
    "    counter = 0\n",
    "    for item in lijst:\n",
    "        if item < 70:\n",
    "           counter += 1\n",
    "    return counter > 1"
   ]
  },
  {
   "cell_type": "code",
   "execution_count": null,
   "metadata": {},
   "outputs": [],
   "source": [
    "double_small_checker([89, 34, 109,  205])"
   ]
  },
  {
   "cell_type": "code",
   "execution_count": null,
   "metadata": {},
   "outputs": [],
   "source": [
    "def smart_double_small_checker(lijst):\n",
    "    return len([item for item in lijst if item<70])>1"
   ]
  },
  {
   "cell_type": "code",
   "execution_count": null,
   "metadata": {},
   "outputs": [],
   "source": [
    " smart_double_small_checker([89, 34, 109, 20, 205])"
   ]
  },
  {
   "cell_type": "code",
   "execution_count": null,
   "metadata": {},
   "outputs": [],
   "source": [
    "#interrupt 15:07u\n",
    "#continue 15:28u"
   ]
  },
  {
   "cell_type": "code",
   "execution_count": null,
   "metadata": {},
   "outputs": [],
   "source": [
    "#Q11 -- deze zoek ik altijd op op Chris Albon's site, heb ik tegen de regels in weer gedaan\n",
    "\n",
    "def flatten(list_of_lists):\n",
    "    print([i for row in list_of_lists for i in row])\n"
   ]
  },
  {
   "cell_type": "code",
   "execution_count": null,
   "metadata": {},
   "outputs": [],
   "source": [
    "flatten([[4, 19], [27, 5], [3], [78, 89, 3]])"
   ]
  },
  {
   "cell_type": "code",
   "execution_count": null,
   "metadata": {},
   "outputs": [],
   "source": [
    "#Q12\n",
    "\n",
    "def flip_dict(dictionary):\n",
    "    values = dictionary.values()\n",
    "    keys = dictionary.keys()\n",
    "    flipped_dict = dict(keys,values)   \n",
    "    return flipped_dict"
   ]
  },
  {
   "cell_type": "code",
   "execution_count": null,
   "metadata": {},
   "outputs": [],
   "source": [
    "flip_dict({'Book': 'Buch',\n",
    " 'Car': 'PKW',\n",
    " 'City': 'Stadt'})"
   ]
  },
  {
   "cell_type": "code",
   "execution_count": null,
   "metadata": {},
   "outputs": [],
   "source": [
    "#Q13\n",
    "#interrupt 15:51u\n",
    "\n",
    "my_text = \"Amstardam\"\n",
    "\n",
    "def corrigeer(lijst_met_woorden):\n",
    "    betere_lijst = []\n",
    "    for lijstwoord in lijst_met_woorden:\n",
    "        woord = ''\n",
    "        for item in range(len(lijstwoord)):\n",
    "            if item < 4:\n",
    "                woord = woord + lijstwoord[item]\n",
    "            elif item == 4:\n",
    "                woord = woord + 'e'\n",
    "            else:\n",
    "                woord = woord + lijstwoord[item]\n",
    "        betere_lijst.append(woord)\n",
    "    return betere_lijst"
   ]
  },
  {
   "cell_type": "code",
   "execution_count": null,
   "metadata": {},
   "outputs": [],
   "source": [
    "corrigeer(['Amstardam', 'Abbraviate', 'abova', 'acadamia'])"
   ]
  },
  {
   "cell_type": "code",
   "execution_count": null,
   "metadata": {},
   "outputs": [],
   "source": [
    "#indexing begint in python met 0, ik weet niet beter"
   ]
  },
  {
   "cell_type": "code",
   "execution_count": null,
   "metadata": {},
   "outputs": [],
   "source": [
    "#interrupt 16:03u tot 16:10"
   ]
  },
  {
   "cell_type": "code",
   "execution_count": null,
   "metadata": {},
   "outputs": [],
   "source": [
    "#Q14\n",
    "\n",
    "import pandas as pd\n",
    "csvlijst = [[1,'testval1'],[2,'testval2'],[3,'testval3']]\n",
    "df = pd.DataFrame(csvlijst, columns=['value','description'])\n",
    "df.to_csv('example.csv')"
   ]
  },
  {
   "cell_type": "code",
   "execution_count": null,
   "metadata": {},
   "outputs": [],
   "source": [
    "df2 = pd.read_csv('example.csv')\n",
    "df2['value'].max()"
   ]
  },
  {
   "cell_type": "code",
   "execution_count": null,
   "metadata": {},
   "outputs": [],
   "source": [
    "df2['value'][-1] = ''"
   ]
  },
  {
   "cell_type": "code",
   "execution_count": null,
   "metadata": {},
   "outputs": [],
   "source": [
    "#Q15\n",
    "\n",
    "import requests\n",
    "\n",
    "r = requests.get('http://www.gutenberg.org/files/11/11-0.txt')\n",
    "# r.headers['content-type']\n",
    "# r.content\n",
    "r.encoding = 'utf-8'"
   ]
  },
  {
   "cell_type": "code",
   "execution_count": null,
   "metadata": {},
   "outputs": [],
   "source": [
    "dictionary = {}\n",
    "\n",
    "for i in range(len(r.text)):\n",
    "    letter = r.text[i]\n",
    "    if letter in dictionary:\n",
    "        dictionary[letter] +=1\n",
    "    else:\n",
    "        dictionary[letter] = 1"
   ]
  },
  {
   "cell_type": "code",
   "execution_count": null,
   "metadata": {},
   "outputs": [],
   "source": [
    "dictionary"
   ]
  },
  {
   "cell_type": "code",
   "execution_count": 62,
   "metadata": {},
   "outputs": [],
   "source": [
    "#Q16\n",
    "palindrome_list = []\n",
    "\n",
    "def is_palindrome(x):    \n",
    "    if len(x) >= 5:\n",
    "        while i in range(len(x)//2):\n",
    "            if x[i] == x[-(i+1)]:\n",
    "                print('bingo')\n",
    "                i +=1\n",
    "            else:\n",
    "                print('geen palindroom')\n",
    "                \n",
    "    else:\n",
    "        print('te kort woord')\n",
    "    return palindrome_list"
   ]
  },
  {
   "cell_type": "code",
   "execution_count": 194,
   "metadata": {},
   "outputs": [],
   "source": [
    "B = []\n",
    "def is_palindrome(word):\n",
    "    if len(word) >= 5:\n",
    "        for i in range(len(word)//2):\n",
    "            if word[i] == word[-i-1]:\n",
    "    #             print('hier')\n",
    "                continue\n",
    "\n",
    "            if word[i] != word[-i-1]:\n",
    "    #             print('pannekoek')\n",
    "                return\n",
    "        B.append(word)"
   ]
  },
  {
   "cell_type": "code",
   "execution_count": 195,
   "metadata": {
    "scrolled": true
   },
   "outputs": [],
   "source": [
    "import requests\n",
    "\n",
    "r = requests.get('https://raw.githubusercontent.com/dwyl/english-words/master/words.txt')\n",
    "r.encoding = 'utf-8'\n",
    "\n",
    "sitelijst = r.text.split('\\n')"
   ]
  },
  {
   "cell_type": "code",
   "execution_count": 196,
   "metadata": {},
   "outputs": [
    {
     "name": "stdout",
     "output_type": "stream",
     "text": [
      "['AAAAAA', 'addda', 'alula', 'CAMAC', 'civic', 'deedeed', 'degged', 'deified', 'deked', 'deled', 'denned', 'dewed', 'divid', 'hagigah', 'halalah', 'hallah', 'yaray', 'kaiak', 'kayak', 'kakkak', 'kelek', 'kinnikinnik', 'lemel', 'level', \"ma'am\", 'madam', 'malam', 'mallam', 'marram', 'mesem', 'minim', 'MRSRM', 'murdrum', 'neven', 'ottetto', 'peeweep', 'pip-pip', 'pullup', 'RADAR', 'redder', 'refer', 'reifier', 'repaper', 'retter', 'rever', 'reviver', 'rotator', 'rotor', 'RSFSR', 'sagas', 'selles', 'sememes', 'semes', 'sexes', 'shahs', 'siris', 'solos', 'sooloos', 'SSTTSS', 'stats', 'succus', 'tat-tat', 'tat-tat-tat', 'tebbet', 'tenet', 'terret', 'tibbit', 'tipit', 'tirrit', 'torot', 'tut-tut', 'ululu', 'waw-waw', 'wow-wow'] \n",
      "\n",
      " that is 74 palindromes according to my count\n"
     ]
    }
   ],
   "source": [
    "B = []\n",
    "for woord in sitelijst:\n",
    "    is_palindrome(woord)\n",
    "print(B, '\\n\\n',f'that is {len(B)} palindromes according to my count')\n",
    "\n",
    "\n",
    "# pffffffffff, deze duurde wel even hoor... voordat ik 'm had"
   ]
  },
  {
   "cell_type": "code",
   "execution_count": null,
   "metadata": {},
   "outputs": [],
   "source": [
    "#interrupt 17:36\n",
    "# resume 19:22"
   ]
  },
  {
   "cell_type": "markdown",
   "metadata": {},
   "source": [
    "#Q17\n",
    "\n",
    "a) This is because in python we make B point to A, such that if we change an item in B, we really change an item in A.\n",
    "\n",
    "b) Here we made B become a copy of A, so a change in the copy does not change the original\n",
    "\n",
    "c) \n",
    "\n",
    "[56,98,[55,45],56,90]\n",
    "\n",
    "[56,89,[67,45],56,90]\n",
    "\n",
    "We access the third item in the list B, then we access the first item in that item and replace it with a new alue 55.\n",
    "above\n",
    "\n",
    "See below, it turns out I was not correct. I don't get it."
   ]
  },
  {
   "cell_type": "code",
   "execution_count": 198,
   "metadata": {},
   "outputs": [
    {
     "name": "stdout",
     "output_type": "stream",
     "text": [
      "[56, 98, [55, 45], 56, 90]\n",
      "[56, 89, [55, 45], 56, 90]\n"
     ]
    }
   ],
   "source": [
    "a = [56, 89, [67, 45], 56, 90]\n",
    "b = a[:]\n",
    "b[1] = 98\n",
    "b[2][0] = 55\n",
    "print(b)\n",
    "print(a)"
   ]
  },
  {
   "cell_type": "code",
   "execution_count": 201,
   "metadata": {},
   "outputs": [
    {
     "name": "stdout",
     "output_type": "stream",
     "text": [
      "ik heb er 3.25 uur over gedaan, zonder palindroom zeker een uur korter :-)\n"
     ]
    }
   ],
   "source": [
    "#finished 20:16u\n",
    "print(f'ik heb er {6-2.75} uur over gedaan, zonder palindroom een uur korter :-)')"
   ]
  },
  {
   "cell_type": "code",
   "execution_count": null,
   "metadata": {},
   "outputs": [],
   "source": []
  }
 ],
 "metadata": {
  "kernelspec": {
   "display_name": "Python 3",
   "language": "python",
   "name": "python3"
  },
  "language_info": {
   "codemirror_mode": {
    "name": "ipython",
    "version": 3
   },
   "file_extension": ".py",
   "mimetype": "text/x-python",
   "name": "python",
   "nbconvert_exporter": "python",
   "pygments_lexer": "ipython3",
   "version": "3.7.3"
  }
 },
 "nbformat": 4,
 "nbformat_minor": 2
}
